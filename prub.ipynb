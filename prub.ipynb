from qiskit_textbook.tools import random_state, vector2latex
# Create random 1-qubit state
psi = random_state(1)

# Display it nicely
vector2latex(psi, pretext="|\\psi\\rangle =")
# Show it on a Bloch sphere
#plot_bloch_multivector(psi)

from qiskit.extensions import Initialize
init_gate = Initialize(psi)

crz = ClassicalRegister(1) # and 2 classical registers
crx = ClassicalRegister(1)
qc = QuantumCircuit(qr, crz, crx)

# First, let's initialise Alice's q0
qc.append(init_gate, [0])
qc.barrier()

# Now begins the teleportation protocol
create_bell_pair(qc, 1, 2)
qc.barrier()
# Send q1 to Alice and q2 to Bob
alice_gates(qc, 0, 1)

# Alice then sends her classical bits to Bob
measure_and_send(qc, 0, 1)

# Bob decodes qubits
bob_gates(qc, 2, crz, crx)

qc.draw()

backend = BasicAer.get_backend('statevector_simulator')
out_vector = execute(qc, backend).result().get_statevector()
plot_bloch_multivector(out_vector)

inverse_init_gate = init_gate.gates_to_uncompute()

qc.append(inverse_init_gate, [2])
qc.draw()

# Need to add a new ClassicalRegister
# to see the result
cr_result = ClassicalRegister(1)
qc.add_register(cr_result)
qc.measure(2,2)
qc.draw()

backend = BasicAer.get_backend('qasm_simulator')
counts = execute(qc, backend, shots=1024).result().get_counts()
plot_histogram(counts)

